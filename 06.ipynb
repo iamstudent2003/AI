{
 "cells": [
  {
   "cell_type": "code",
   "execution_count": 2,
   "metadata": {},
   "outputs": [
    {
     "name": "stdout",
     "output_type": "stream",
     "text": [
      "*-----Forward--Chaining-----*\n",
      " X is \n",
      "1..Croaks \n",
      "2.Eat Flies \n",
      "3.Shrimps \n",
      "4.Sings \n",
      " Select One  \n",
      " Chance Of Frog \n",
      " X is Croaks\n",
      " Color Is 1.Green 2.Yellow\n",
      " Select Option \n",
      "---InValid Knowledge Database"
     ]
    }
   ],
   "source": [
    "#Write a program to implement forward chaining algorithm.\n",
    "\n",
    "database = [\"Croaks\", \"Eat Flies\", \"Shrimps\", \"Sings\"]\n",
    "knowbase = [\"Frog\", \"Canary\", \"Green\", \"Yellow\"]\n",
    "\n",
    "def display():\n",
    "    print(\"\\n X is \")\n",
    "    print(\"1..Croaks \\n2.Eat Flies \\n3.Shrimps \\n4.Sings \", end='')\n",
    "    print(\"\\n Select One \", end='')\n",
    "\n",
    "def main():\n",
    "    print(\"*-----Forward--Chaining-----*\", end='')\n",
    "    display()\n",
    "    x = int(input())\n",
    "    print(\" \\n\", end='')\n",
    "\n",
    "    if x == 1 or x == 2:\n",
    "        print(\" Chance Of Frog \", end='')\n",
    "    elif x == 3 or x == 4:\n",
    "        print(\" Chance of Canary \", end='')\n",
    "    else:\n",
    "        print(\"\\n-------In Valid Option Select --------\", end='')\n",
    "\n",
    "    if x >= 1 and x <= 4:\n",
    "        print(\"\\n X is \", end='')\n",
    "        print(database[x-1], end='')\n",
    "        print(\"\\n Color Is 1.Green 2.Yellow\", end='')\n",
    "        print(\"\\n Select Option \", end='')\n",
    "        k = int(input())\n",
    "\n",
    "        if k == 1 and (x == 1 or x == 2):  # frog and green\n",
    "            print(\" yes it is \", end='')\n",
    "            print(knowbase[0], end='')\n",
    "            print(\" And Color Is \", end='')\n",
    "            print(knowbase[2], end='')\n",
    "        elif k == 2 and (x == 3 or x == 4):  # canary and yellow\n",
    "            print(\" yes it is \", end='')\n",
    "            print(knowbase[1], end='')\n",
    "            print(\" And Color Is \", end='')\n",
    "            print(knowbase[3], end='')\n",
    "        else:\n",
    "            print(\"\\n---InValid Knowledge Database\", end='')\n",
    "\n",
    "if __name__ == \"__main__\":\n",
    "    main()"
   ]
  }
 ],
 "metadata": {
  "kernelspec": {
   "display_name": "Python 3",
   "language": "python",
   "name": "python3"
  },
  "language_info": {
   "codemirror_mode": {
    "name": "ipython",
    "version": 3
   },
   "file_extension": ".py",
   "mimetype": "text/x-python",
   "name": "python",
   "nbconvert_exporter": "python",
   "pygments_lexer": "ipython3",
   "version": "3.13.2"
  }
 },
 "nbformat": 4,
 "nbformat_minor": 2
}
