

{
 "cells": [
  {
   "cell_type": "code",
   "execution_count": 1,
   "metadata": {},
   "outputs": [
    {
     "name": "stdout",
     "output_type": "stream",
     "text": [
      "22\n"
     ]
    }
   ],
   "source": [
    "#8-Puzzel",
    "class Solution:\n",
    "    def solve(self, board):\n",
    "        dict = {}\n",
    "        flatten = []\n",
    "\n",
    "        for i in range(len(board)):\n",
    "            flatten += board[i]\n",
    "        flatten = tuple(flatten)\n",
    "\n",
    "        dict[flatten] = 0\n",
    "\n",
    "        if flatten == (1, 2, 3, 4, 5, 6, 7, 8, 0):\n",
    "            return 0\n",
    "\n",
    "        return self.get_paths(dict)\n",
    "    \n",
    "    def get_paths(self, dict):\n",
    "        cnt = 0\n",
    "        while True:\n",
    "            current_nodes = [x for x in dict if dict[x] == cnt]\n",
    "            if len(current_nodes) == 0:\n",
    "                return -1\n",
    "\n",
    "            for node in current_nodes:\n",
    "                next_moves = self.find_next(node)\n",
    "                for move in next_moves:\n",
    "                    if move not in dict:  # Ensure the move is not already visited\n",
    "                        dict[move] = cnt + 1\n",
    "                    if move == (1, 2, 3, 4, 5, 6, 7, 8, 0):\n",
    "                        return cnt + 1\n",
    "            cnt += 1\n",
    "\n",
    "    def find_next(self, node):\n",
    "        moves = {\n",
    "            0: [1, 3],\n",
    "            1: [0, 2, 4],\n",
    "            2: [1, 5],\n",
    "            3: [0, 4, 6],\n",
    "            4: [1, 3, 5, 7],\n",
    "            5: [2, 4, 8],\n",
    "            6: [3, 7],\n",
    "            7: [4, 6, 8],\n",
    "            8: [5, 7]\n",
    "        }\n",
    "        results = []\n",
    "        pos_0 = node.index(0)\n",
    "        for move in moves[pos_0]:\n",
    "            new_node = list(node)\n",
    "            new_node[pos_0], new_node[move] = new_node[move], new_node[pos_0]\n",
    "            results.append(tuple(new_node))\n",
    "        return results\n",
    "\n",
    "\n",
    "# Instantiate the class and solve the puzzle\n",
    "ob = Solution()\n",
    "matrix = [\n",
    "    [3, 1, 2],\n",
    "    [4, 7, 5],\n",
    "    [6, 8, 0]\n",
    "]\n",
    "\n",
    "print(ob.solve(matrix))"
   ]
  }
 ],
 "metadata": {
  "kernelspec": {
   "display_name": "Python 3",
   "language": "python",
   "name": "python3"
  },
  "language_info": {
   "codemirror_mode": {
    "name": "ipython",
    "version": 3
   },
   "file_extension": ".py",
   "mimetype": "text/x-python",
   "name": "python",
   "nbconvert_exporter": "python",
   "pygments_lexer": "ipython3",
   "version": "3.13.2"
  }
 },
 "nbformat": 4,
 "nbformat_minor": 2
}
