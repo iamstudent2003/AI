{
 "cells": [
  {
   "cell_type": "code",
   "execution_count": 1,
   "metadata": {},
   "outputs": [
    {
     "name": "stdout",
     "output_type": "stream",
     "text": [
      "*-----Backward--Chaining-----*\n",
      " X is \n",
      "1.frog \n",
      "2.canary \n",
      " Select One  \n",
      " Chance Of eating flies \n",
      " X is Frog\n",
      "1.green \n",
      "2.yellow\n",
      " yes it is in Green colour and will Croaks\n"
     ]
    }
   ],
   "source": [
    "#Write a program to implement backward chaining algorithm. \n",
    "\n",
    "database = [\"Croaks\", \"Eat Flies\", \"Shrimps\", \"Sings\"]\n",
    "knowbase = [\"Frog\", \"Canary\"]\n",
    "color = [\"Green\", \"Yellow\"]\n",
    "\n",
    "def display():\n",
    "    print(\"\\n X is \")\n",
    "    print(\"1.frog \\n2.canary \", end='')\n",
    "    print(\"\\n Select One \", end='')\n",
    "\n",
    "def main():\n",
    "    print(\"*-----Backward--Chaining-----*\", end='')\n",
    "    display()\n",
    "    x = int(input())\n",
    "    print(\" \\n\", end='')\n",
    "\n",
    "    if x == 1:\n",
    "        print(\" Chance Of eating flies \", end='')\n",
    "    elif x == 2:\n",
    "        print(\" Chance of shrimping \", end='')\n",
    "    else:\n",
    "        print(\"\\n-------In Valid Option Select --------\", end='')\n",
    "\n",
    "    if x >= 1 and x <= 2:\n",
    "        print(\"\\n X is \", end='')\n",
    "        print(knowbase[x-1], end='')\n",
    "        print(\"\\n1.green \\n2.yellow\")\n",
    "        k = int(input())\n",
    "\n",
    "        if k == 1 and x == 1:  # frog and green\n",
    "            print(\" yes it is in \", end='')\n",
    "            print(color[0], end='')\n",
    "            print(\" colour and will \", end='')\n",
    "            print(database[0])\n",
    "        elif k == 2 and x == 2:  # canary and yellow\n",
    "            print(\" yes it is in\", end='')\n",
    "            print(color[1], end='')\n",
    "            print(\" Colour and will \", end='')\n",
    "            print(database[1])\n",
    "        else:\n",
    "            print(\"\\n---InValid Knowledge Database\", end='')\n",
    "\n",
    "if __name__ == \"__main__\":\n",
    "    main()"
   ]
  }
 ],
 "metadata": {
  "kernelspec": {
   "display_name": "Python 3",
   "language": "python",
   "name": "python3"
  },
  "language_info": {
   "codemirror_mode": {
    "name": "ipython",
    "version": 3
   },
   "file_extension": ".py",
   "mimetype": "text/x-python",
   "name": "python",
   "nbconvert_exporter": "python",
   "pygments_lexer": "ipython3",
   "version": "3.13.2"
  }
 },
 "nbformat": 4,
 "nbformat_minor": 2
}
